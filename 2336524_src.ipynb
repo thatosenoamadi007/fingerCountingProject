{
 "cells": [
  {
   "cell_type": "code",
   "execution_count": 1,
   "id": "470d792b",
   "metadata": {},
   "outputs": [],
   "source": [
    "#Import required libraries\n",
    "import cv2\n",
    "import numpy as np\n",
    "import math\n",
    "import os\n",
    "import numpy as np\n",
    "import random\n",
    "import matplotlib.pyplot as plt"
   ]
  },
  {
   "cell_type": "code",
   "execution_count": 2,
   "id": "ac7d16f0",
   "metadata": {},
   "outputs": [],
   "source": [
    "#Calculate the area of a hand\n",
    "def calculate_hand_area(image):\n",
    "    # Convert the image to grayscale\n",
    "    gray = cv2.cvtColor(image, cv2.COLOR_BGR2GRAY)\n",
    "    # Apply Gaussian blur to the image\n",
    "    blurred = cv2.GaussianBlur(gray, (5, 5), 0)\n",
    "    # Apply thresholding to the image\n",
    "    _, threshold = cv2.threshold(blurred, 0, 255, cv2.THRESH_BINARY+cv2.THRESH_OTSU)\n",
    "\n",
    "    # Find contours in the thresholded image\n",
    "    contours, _ = cv2.findContours(threshold, cv2.RETR_EXTERNAL, cv2.CHAIN_APPROX_SIMPLE)\n",
    "    # Select the contour with maximum area, this should be the hand contour\n",
    "    hand_contour = max(contours, key=cv2.contourArea)\n",
    "\n",
    "    # Return the area of the hand contour\n",
    "    return cv2.contourArea(hand_contour)"
   ]
  },
  {
   "cell_type": "code",
   "execution_count": 3,
   "id": "762ebc9b",
   "metadata": {},
   "outputs": [],
   "source": [
    "#Calculate average area of images in directory\n",
    "def calculate_average_area(directory):\n",
    "    hand_areas = []\n",
    "    # Loop over all .png images in the specified directory\n",
    "    for filename in os.listdir(directory):\n",
    "        if filename.endswith('.png'):  \n",
    "            image = cv2.imread(os.path.join(directory, filename))\n",
    "            if image is not None:\n",
    "                # Calculate the hand area for the current image\n",
    "                hand_area = calculate_hand_area(image)\n",
    "                hand_areas.append(hand_area)\n",
    "    # Calculate the average hand area\n",
    "    average_hand_area = sum(hand_areas) / len(hand_areas)\n",
    "    return average_hand_area"
   ]
  },
  {
   "cell_type": "code",
   "execution_count": 4,
   "id": "93b221b5",
   "metadata": {},
   "outputs": [],
   "source": [
    "#Calculate threshold area\n",
    "def calculate_threshold(closed_hand_directory, one_finger_directory):\n",
    "    # Calculate the average hand area for images of a closed hand\n",
    "    average_closed_hand_area = calculate_average_area(closed_hand_directory)\n",
    "    # Calculate the average hand area for images of a hand with one finger raised\n",
    "    average_one_finger_area = calculate_average_area(one_finger_directory)\n",
    "\n",
    "    # The threshold is the average of these two average areas\n",
    "    thresh = (average_closed_hand_area + average_one_finger_area) / 2\n",
    "\n",
    "    return thresh"
   ]
  },
  {
   "cell_type": "code",
   "execution_count": 5,
   "id": "c4c7b13f",
   "metadata": {},
   "outputs": [],
   "source": [
    "\n",
    "# load all image file paths from the specified parent directory and its subdirectories, \n",
    "# then randomly shuffle the paths\n",
    "def load_and_shuffle_images(parent_directory):\n",
    "    image_files = []  # Initialize a list to store the image file paths\n",
    "\n",
    "    # Iterate through each subdirectory (from 0 to 5) in the parent directory\n",
    "    for i in range(6):\n",
    "        # Create the full path to the current subdirectory\n",
    "        folder_path = os.path.join(parent_directory, str(i))\n",
    "\n",
    "        # Iterate through each file in the current subdirectory\n",
    "        for filename in os.listdir(folder_path):\n",
    "            # If the file is an image (.png), add its path to the image_files list\n",
    "            if filename.endswith('.png'):  \n",
    "                image_file_path = os.path.join(folder_path, filename)\n",
    "                image_files.append(image_file_path)\n",
    "    \n",
    "    # Randomly shuffle the list of image file paths\n",
    "    random.shuffle(image_files)\n",
    "\n",
    "    # Return the shuffled list of image file paths\n",
    "    return image_files\n"
   ]
  },
  {
   "cell_type": "code",
   "execution_count": 6,
   "id": "fd488bce",
   "metadata": {
    "scrolled": true
   },
   "outputs": [],
   "source": [
    "#Get angle betweeen fingers\n",
    "def calculate_angle(start, farthest, end):\n",
    "    #Calculate the angle between three points using the cosine rule\n",
    "    a = math.sqrt((end[0] - farthest[0])**2 + (end[1] - farthest[1])**2)\n",
    "    b = math.sqrt((start[0] - farthest[0])**2 + (start[1] - farthest[1])**2)\n",
    "    c = math.sqrt((start[0] - end[0])**2 + (start[1] - end[1])**2)\n",
    "    angle = math.acos((a**2 + b**2 - c**2) / (2*a*b))\n",
    "    \n",
    "    return math.degrees(angle)"
   ]
  },
  {
   "cell_type": "code",
   "execution_count": 7,
   "id": "7938e9af",
   "metadata": {},
   "outputs": [],
   "source": [
    "#Apply preprocessing to the image\n",
    "def preprocess_image(image_path):\n",
    "\n",
    "    # Load the image from the specified file path\n",
    "    image = cv2.imread(image_path)\n",
    "    \n",
    "    # Convert the color image to grayscale\n",
    "    gray = cv2.cvtColor(image, cv2.COLOR_BGR2GRAY)\n",
    "    \n",
    "    # Apply a Gaussian blur to the grayscale image, using a kernel size of 5x5 pixels and a sigma of 0\n",
    "    # This helps to reduce noise and detail in the image\n",
    "    blurred = cv2.GaussianBlur(gray, (5, 5), 0)\n",
    "    \n",
    "    # Apply Otsu's binarization method to the blurred image\n",
    "    # This method automatically determines an optimal threshold value to separate the image into binary classes (black and white)\n",
    "    _, threshold = cv2.threshold(blurred, 0, 255, cv2.THRESH_BINARY + cv2.THRESH_OTSU)\n",
    "    \n",
    "    # Return both the original image and the preprocessed (thresholded) image\n",
    "    return image, threshold\n"
   ]
  },
  {
   "cell_type": "code",
   "execution_count": 8,
   "id": "47a7cfc2",
   "metadata": {},
   "outputs": [],
   "source": [
    "#Get Hand Countour\n",
    "def get_hand_contour(threshold_image):\n",
    "    #Identify the hand contour in a thresholded image\n",
    "    contours, _ = cv2.findContours(threshold_image, cv2.RETR_EXTERNAL, cv2.CHAIN_APPROX_SIMPLE)\n",
    "    # Select the contour with maximum area, this should be the hand contour\n",
    "    hand_contour = max(contours, key=cv2.contourArea)\n",
    "    \n",
    "    return hand_contour"
   ]
  },
  {
   "cell_type": "code",
   "execution_count": 9,
   "id": "a44fbee6",
   "metadata": {},
   "outputs": [],
   "source": [
    "#Count the number of fingers\n",
    "def count_fingers(hand_contour,hand_area, thresh):\n",
    "    \"\"\"Count the number of fingers shown in the hand contour\"\"\"\n",
    "    # Calculate the convex hull of the hand contour\n",
    "    hull = cv2.convexHull(hand_contour, returnPoints=False)\n",
    "    # Calculate the convexity defects of the hand contour\n",
    "    defects = cv2.convexityDefects(hand_contour, hull)\n",
    "\n",
    "    fingers = 0\n",
    "    \n",
    "    # If the hand area is greater than the threshold, a finger is considered raised\n",
    "    if hand_area > thresh:\n",
    "        fingers = 1\n",
    "        if defects is not None:\n",
    "            # Loop over the defects\n",
    "            for i in range(defects.shape[0]):\n",
    "                # Get the start, end and farthest point of the defect\n",
    "                start, end, _, _ = defects[i, 0]\n",
    "                start_point = tuple(hand_contour[start][0])\n",
    "                end_point = tuple(hand_contour[end][0])\n",
    "                farthest_point = tuple(hand_contour[defects[i, 0][2]][0])\n",
    "\n",
    "                # Calculate the depth and angle of the defect\n",
    "                depth = defects[i, 0][3] / 256\n",
    "                angle = calculate_angle(start_point, farthest_point, end_point)\n",
    "\n",
    "                # If the depth is greater than 15 and the angle is less than 90, count the defect as a raised finger\n",
    "                if depth > 15 and angle < 90:\n",
    "                    fingers += 1\n",
    "                    \n",
    "    return fingers\n"
   ]
  },
  {
   "cell_type": "code",
   "execution_count": 10,
   "id": "8acce06e",
   "metadata": {},
   "outputs": [],
   "source": [
    "# Evaluate the accuracy of finger count prediction\n",
    "def evaluate_accuracy(directory, expected_fingers):\n",
    "    correct_predictions = 0  # Initialize counter for correct finger count predictions\n",
    "    total_images = 0  # Initialize counter for total images processed\n",
    "\n",
    "    # Iterate through all files in the specified directory\n",
    "    for filename in os.listdir(directory):\n",
    "        # If the file is an image (.png), process it\n",
    "        if filename.endswith('.png'):  \n",
    "            # Create the full file path by joining the directory and filename\n",
    "            image_path = os.path.join(directory, filename)\n",
    "\n",
    "            # Preprocess the image and obtain the thresholded image\n",
    "            image, threshold_image = preprocess_image(image_path)\n",
    "\n",
    "            # Identify the hand contour in the thresholded image\n",
    "            hand_contour = get_hand_contour(threshold_image)\n",
    "\n",
    "            # Calculate the hand area in the image\n",
    "            hand_area = calculate_hand_area(image) \n",
    "\n",
    "            # Predict the number of fingers in the image\n",
    "            predicted_fingers = count_fingers(hand_contour, hand_area, thresh)\n",
    "\n",
    "            # If the predicted finger count matches the expected finger count, increment correct_predictions\n",
    "            if predicted_fingers == expected_fingers:\n",
    "                correct_predictions += 1\n",
    "\n",
    "            # Increment total_images counter\n",
    "            total_images += 1\n",
    "\n",
    "    # Calculate the accuracy as the ratio of correct predictions to total images processed\n",
    "    accuracy = correct_predictions / total_images\n",
    "    return accuracy\n",
    "\n"
   ]
  },
  {
   "cell_type": "code",
   "execution_count": 11,
   "id": "ad13ec0d",
   "metadata": {},
   "outputs": [
    {
     "name": "stdout",
     "output_type": "stream",
     "text": [
      "Enter index of image to process between 0-299:7\n",
      "Hand Area: 1434.5\n",
      "Palm_Area 1371.31\n",
      "Number of fingers raised:  1\n"
     ]
    },
    {
     "data": {
      "image/png": "[encoded data removed]",
      "text/plain": [
       "<Figure size 432x288 with 1 Axes>"
      ]
     },
     "metadata": {
      "needs_background": "light"
     },
     "output_type": "display_data"
    }
   ],
   "source": [
    "#Run this cell to choose image to process, Enter index between 0-299\n",
    "\n",
    "# Define the directories where images of a closed hand (0 fingers raised) and one finger raised are stored\n",
    "closed_hand_directory = './fingers/0'\n",
    "one_finger_directory = './fingers/1'\n",
    "\n",
    "# Call the calculate_threshold function to calculate the threshold area to differentiate between 0 and 1 finger raised.\n",
    "# This function calculates the average area of hands in the images in the closed_hand_directory and one_finger_directory,\n",
    "# and then sets the threshold as the midpoint of these two average areas.\n",
    "thresh = calculate_threshold(closed_hand_directory, one_finger_directory)\n",
    "\n",
    "# Define the path of the image for which the number of raised fingers has to be identified\n",
    "image_path = \"./fingers/\"\n",
    "shuffled_images = load_and_shuffle_images(image_path)\n",
    "\n",
    "# Call the preprocess_image function to load and preprocess the image. This function returns the original image and \n",
    "# the preprocessed (grayscale, blurred and thresholded) image\n",
    "#Select an Image to process from a list of all the images contained in shuffled_images\n",
    "index = int(input(\"Enter index of image to process between 0-299:\"))\n",
    "image, threshold_image = preprocess_image(shuffled_images[index])\n",
    "\n",
    "# Call the get_hand_contour function to identify the contour of the hand in the thresholded image\n",
    "hand_contour = get_hand_contour(threshold_image)\n",
    "\n",
    "# Calculate the area of the hand in the image\n",
    "hand_area=calculate_hand_area(image)\n",
    "\n",
    "# Call the count_fingers function to count the number of fingers shown in the hand contour. This function uses the \n",
    "# calculated threshold and the area of the hand in the image to differentiate between a closed fist and a hand with \n",
    "# one finger raised. It then counts the number of convexity defects in the hand contour to identify additional fingers.\n",
    "fingers = count_fingers(hand_contour,hand_area, thresh)\n",
    "\n",
    "# Print the Image, calculated area of the hand in the image, the calculated threshold, and the identified number of fingers\n",
    "plt.imshow(image)\n",
    "print(\"Hand Area:\", hand_area)\n",
    "print(\"Palm_Area\", thresh)\n",
    "print(\"Number of fingers raised: \",fingers)\n"
   ]
  },
  {
   "cell_type": "code",
   "execution_count": 13,
   "id": "ddac2c95",
   "metadata": {},
   "outputs": [
    {
     "name": "stdout",
     "output_type": "stream",
     "text": [
      "Accuracy for 0 fingers: 78.00%\n",
      "Accuracy for 1 fingers: 70.00%\n",
      "Accuracy for 2 fingers: 78.00%\n",
      "Accuracy for 3 fingers: 96.00%\n",
      "Accuracy for 4 fingers: 100.00%\n",
      "Accuracy for 5 fingers: 76.00%\n",
      "Average accuracy: 83.00%\n"
     ]
    }
   ],
   "source": [
    "# Run this code to print accuracy results\n",
    "\n",
    "root_directory = './fingers'  # Directory containing the finger count images\n",
    "accuracies = []  # List to store the accuracy for each finger count (0 to 5)\n",
    "\n",
    "# Iterate through each finger count (0 to 5)\n",
    "for i in range(6):\n",
    "    # Create the directory path for the current finger count\n",
    "    directory = os.path.join(root_directory, str(i))\n",
    "    \n",
    "    # Evaluate the accuracy of prediction for the current finger count\n",
    "    accuracy = evaluate_accuracy(directory, i)\n",
    "    \n",
    "    # Append the accuracy to the accuracies list\n",
    "    accuracies.append(accuracy)\n",
    "    \n",
    "    # Print the accuracy for the current finger count\n",
    "    print(f\"Accuracy for {i} fingers: {accuracy*100:.2f}%\")\n",
    "\n",
    "# Calculate and print the average accuracy across all finger counts\n",
    "average_accuracy = sum(accuracies) / len(accuracies)\n",
    "print(f\"Average accuracy: {average_accuracy*100:.2f}%\")\n"
   ]
  },
  {
   "cell_type": "code",
   "execution_count": null,
   "id": "e623d014",
   "metadata": {},
   "outputs": [],
   "source": []
  }
 ],
 "metadata": {
  "kernelspec": {
   "display_name": "Python 3 (ipykernel)",
   "language": "python",
   "name": "python3"
  },
  "language_info": {
   "codemirror_mode": {
    "name": "ipython",
    "version": 3
   },
   "file_extension": ".py",
   "mimetype": "text/x-python",
   "name": "python",
   "nbconvert_exporter": "python",
   "pygments_lexer": "ipython3",
   "version": "3.9.12"
  }
 },
 "nbformat": 4,
 "nbformat_minor": 5
}
